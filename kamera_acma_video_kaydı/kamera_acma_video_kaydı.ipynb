{
 "cells": [
  {
   "cell_type": "code",
   "execution_count": 3,
   "id": "35658b3a-6ce4-4a02-9c51-b0b91e638d32",
   "metadata": {},
   "outputs": [],
   "source": [
    "import cv2"
   ]
  },
  {
   "cell_type": "code",
   "execution_count": 5,
   "id": "cf759764-4b3b-41a7-bc70-88e1ee6d00c2",
   "metadata": {},
   "outputs": [
    {
     "name": "stdout",
     "output_type": "stream",
     "text": [
      "640 480\n"
     ]
    }
   ],
   "source": [
    "# capture\n",
    "cap = cv2.VideoCapture(0)\n",
    "\n",
    "width = int(cap.get(cv2.CAP_PROP_FRAME_WIDTH))\n",
    "height = int(cap.get(cv2.CAP_PROP_FRAME_HEIGHT))\n",
    "print(width, height)\n",
    "\n",
    "# video kaydet\n",
    "writer = cv2.VideoWriter(\"video_kaydı.mp4\", cv2.VideoWriter_fourcc(*\"DIVX\"),20,(width, height))\n",
    "\n",
    "while True:\n",
    "    \n",
    "    ret, frame = cap.read()\n",
    "    cv2.imshow(\"Video\",frame)\n",
    "    \n",
    "    # save\n",
    "    writer.write(frame)\n",
    "    \n",
    "    if cv2.waitKey(1) & 0xFF == ord(\"q\"): break\n",
    "\n",
    "cap.release()\n",
    "writer.release()\n",
    "cv2.destroyAllWindows()"
   ]
  },
  {
   "cell_type": "code",
   "execution_count": null,
   "id": "8c4c1e3a-9f79-453c-acc6-a17b2625b681",
   "metadata": {},
   "outputs": [],
   "source": []
  }
 ],
 "metadata": {
  "kernelspec": {
   "display_name": "Python 3 (ipykernel)",
   "language": "python",
   "name": "python3"
  },
  "language_info": {
   "codemirror_mode": {
    "name": "ipython",
    "version": 3
   },
   "file_extension": ".py",
   "mimetype": "text/x-python",
   "name": "python",
   "nbconvert_exporter": "python",
   "pygments_lexer": "ipython3",
   "version": "3.9.12"
  }
 },
 "nbformat": 4,
 "nbformat_minor": 5
}
