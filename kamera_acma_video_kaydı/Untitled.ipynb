{
 "cells": [
  {
   "cell_type": "code",
   "execution_count": null,
   "id": "e959da57-cb19-443f-8ab5-566f61aa2e33",
   "metadata": {},
   "outputs": [],
   "source": [
    "# capture\n",
    "cap = cv2.VideoCapture(0)\n",
    "\n",
    "# Kamera'nın yüksekliğini ve genişliğini alalım\n",
    "width = int(cap.get(cv2.CAP_PROP_FRAME_WIDTH))\n",
    "height = int(cap.get(cv2.CAP_PROP_FRAME_HEIGHT))\n",
    "print(width, height)\n",
    "\n",
    "# Video Kaydet\n",
    "writer = cv2.VideoWriter(\"video_kaydı.mp4\", cv2.VideoWriter_fourcc(*\"DIVX\"),20,(width, height))\n",
    "\n",
    "# cap -> video kamerasından gelecek olan resimler\n",
    "while True:\n",
    "    ret, frame = cap.read()\n",
    "    cv2.imshow(\"Video\",frame)  # video'yu gösterelim\n",
    "    writer.write(frame) # save\n",
    "    \n",
    "    if cv2.waitKey(1) & 0xFF == ord(\"q\"): break\n",
    "    \n",
    "cap.release()\n",
    "writer.release()\n",
    "cv2.destroyAllWindows()"
   ]
  }
 ],
 "metadata": {
  "kernelspec": {
   "display_name": "Python 3 (ipykernel)",
   "language": "python",
   "name": "python3"
  },
  "language_info": {
   "codemirror_mode": {
    "name": "ipython",
    "version": 3
   },
   "file_extension": ".py",
   "mimetype": "text/x-python",
   "name": "python",
   "nbconvert_exporter": "python",
   "pygments_lexer": "ipython3",
   "version": "3.9.12"
  }
 },
 "nbformat": 4,
 "nbformat_minor": 5
}
