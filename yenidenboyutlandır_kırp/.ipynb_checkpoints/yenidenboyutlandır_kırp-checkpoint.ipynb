{
 "cells": [
  {
   "cell_type": "code",
   "execution_count": 2,
   "id": "90dcb5e1-809a-4b74-8d89-806e96e0e3a7",
   "metadata": {},
   "outputs": [],
   "source": [
    "import cv2"
   ]
  },
  {
   "cell_type": "code",
   "execution_count": 3,
   "id": "c1f8f4fb-2355-4de4-81f8-ce59e9b82333",
   "metadata": {},
   "outputs": [
    {
     "name": "stdout",
     "output_type": "stream",
     "text": [
      "Resim Boyutu:  (512, 512, 3)\n",
      "Resized Img Shape:  (800, 800, 3)\n"
     ]
    }
   ],
   "source": [
    "img = cv2.imread(\"lenna.png\")\n",
    "print(\"Resim Boyutu: \", img.shape)\n",
    "cv2.imshow(\"Orijinal\", img)\n",
    "\n",
    "# resized\n",
    "imgResized = cv2.resize(img, (800,800))\n",
    "print(\"Resized Img Shape: \", imgResized.shape)\n",
    "cv2.imshow(\"Img Resized\",imgResized)\n",
    "\n",
    "#Kırp\n",
    "imgCropped = img[:200, 0:300] # height - width\n",
    "cv2.imshow(\"Kirpik Resim: \",imgCropped)\n",
    "\n",
    "# Resmi açtıktan sonra ekranda tut - Tüm pencereleri kapat\n",
    "cv2.waitKey(0)\n",
    "cv2.destroyAllWindows()"
   ]
  },
  {
   "cell_type": "code",
   "execution_count": null,
   "id": "d211dcbf-7414-42cc-8343-2d0d25a8ecc2",
   "metadata": {},
   "outputs": [],
   "source": []
  }
 ],
 "metadata": {
  "kernelspec": {
   "display_name": "Python 3 (ipykernel)",
   "language": "python",
   "name": "python3"
  },
  "language_info": {
   "codemirror_mode": {
    "name": "ipython",
    "version": 3
   },
   "file_extension": ".py",
   "mimetype": "text/x-python",
   "name": "python",
   "nbconvert_exporter": "python",
   "pygments_lexer": "ipython3",
   "version": "3.9.12"
  }
 },
 "nbformat": 4,
 "nbformat_minor": 5
}
