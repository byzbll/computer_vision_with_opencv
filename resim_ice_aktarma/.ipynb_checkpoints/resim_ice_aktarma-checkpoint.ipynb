{
 "cells": [
  {
   "cell_type": "code",
   "execution_count": 6,
   "id": "a6ef2837-3474-42c4-ad89-daf7121b5b9b",
   "metadata": {},
   "outputs": [],
   "source": [
    "import cv2"
   ]
  },
  {
   "cell_type": "code",
   "execution_count": 7,
   "id": "67e0e3bc-fec3-4bac-97e0-f46f1af6f4b3",
   "metadata": {},
   "outputs": [],
   "source": [
    "# Resmi içe aktarma\n",
    "img = cv2.imread(\"messi5.jpg\",0)\n",
    "\n",
    "# görselleştir\n",
    "cv2.imshow(\"Image\", img)\n",
    "\n",
    "# Klavye'ye bağlanma işlemini gerçekleştiriyoruz.\n",
    "k = cv2.waitKey(0) &0xFF\n",
    "if k == 27: # ESC\n",
    "    cv2.destroyAllWindows()\n",
    "elif k == ord('s'):\n",
    "    cv2.imwrite(\"messi_gray.png\", img)\n",
    "    cv2.destroyAllWindows()"
   ]
  },
  {
   "cell_type": "code",
   "execution_count": null,
   "id": "694f174c-9b28-4d27-a63d-aba4a80f7143",
   "metadata": {},
   "outputs": [],
   "source": []
  }
 ],
 "metadata": {
  "kernelspec": {
   "display_name": "Python 3 (ipykernel)",
   "language": "python",
   "name": "python3"
  },
  "language_info": {
   "codemirror_mode": {
    "name": "ipython",
    "version": 3
   },
   "file_extension": ".py",
   "mimetype": "text/x-python",
   "name": "python",
   "nbconvert_exporter": "python",
   "pygments_lexer": "ipython3",
   "version": "3.9.12"
  }
 },
 "nbformat": 4,
 "nbformat_minor": 5
}
