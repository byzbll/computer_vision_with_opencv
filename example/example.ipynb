{
 "cells": [
  {
   "cell_type": "code",
   "execution_count": 1,
   "id": "78f31621-3bca-4de4-ae2c-1df9a47f4a37",
   "metadata": {},
   "outputs": [
    {
     "name": "stdout",
     "output_type": "stream",
     "text": [
      "(568, 860)\n"
     ]
    }
   ],
   "source": [
    "# opencv kütüphanesini içe aktaralım\n",
    "import cv2\n",
    "\n",
    "# matplotlib kütüphanesini içe aktaralım\n",
    "import matplotlib.pyplot as plt\n",
    "\n",
    "# resmi siyah beyaz olarak içe aktaralım\n",
    "img = cv2.imread(\"odev1.jpg\", 0)\n",
    "\n",
    "# resmi çizdirelim\n",
    "cv2.imshow('Odev-1',img)\n",
    "\n",
    "cv2.waitKey(0)\n",
    "cv2.destroyAllWindows()\n",
    "\n",
    "# resmin boyutuna bakalım\n",
    "print(img.shape)\n",
    "\n",
    "# resmi 4/5 oranında yeniden boyutlandıralım ve resmi çizdirelim\n",
    "\n",
    "\n",
    "# orijinal resme bir yazı ekleyelim mesela \"kopek\" ve resmi çizdirelim\n",
    "# ...\n",
    "# ...\n",
    "\n",
    "# orijinal resmin 50 threshold değeri üzerindekileri beyaz yap altındakileri siyah yapalım, \n",
    "# binary threshold yöntemi kullanalım ve resmi çizdirelim\n",
    "# ...\n",
    "# ...\n",
    "\n",
    "# orijinal resme gaussian bulanıklaştırma uygulayalım ve resmi çizdirelim\n",
    "# ...\n",
    "# ...\n",
    "\n",
    "# orijinal resme Laplacian  gradyan uygulayalım ve resmi çizdirelim\n",
    "# ...\n",
    "# ...\n",
    "\n",
    "# orijinal resmin histogramını çizdirelim\n",
    "# ...\n",
    "# ...\n"
   ]
  },
  {
   "cell_type": "code",
   "execution_count": null,
   "id": "66bfd131-524a-463c-8021-e1e6e52645ed",
   "metadata": {},
   "outputs": [],
   "source": []
  }
 ],
 "metadata": {
  "kernelspec": {
   "display_name": "Python 3 (ipykernel)",
   "language": "python",
   "name": "python3"
  },
  "language_info": {
   "codemirror_mode": {
    "name": "ipython",
    "version": 3
   },
   "file_extension": ".py",
   "mimetype": "text/x-python",
   "name": "python",
   "nbconvert_exporter": "python",
   "pygments_lexer": "ipython3",
   "version": "3.9.12"
  }
 },
 "nbformat": 4,
 "nbformat_minor": 5
}
