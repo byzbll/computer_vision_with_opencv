{
 "cells": [
  {
   "cell_type": "code",
   "execution_count": 2,
   "id": "fdcb19e5-97b8-4d61-9247-aecc3b3c98ff",
   "metadata": {},
   "outputs": [],
   "source": [
    "import cv2\n",
    "import numpy as np"
   ]
  },
  {
   "cell_type": "code",
   "execution_count": 3,
   "id": "519f0d18-5b6e-4901-89f4-62d8ba404728",
   "metadata": {},
   "outputs": [],
   "source": [
    "# resmi ice aktar\n",
    "img = cv2.imread(\"lenna.png\")\n",
    "cv2.imshow(\"Original\",img)\n",
    "\n",
    "# yatay\n",
    "hor = np.hstack((img,img))\n",
    "cv2.imshow(\"Horizontal: \",hor)\n",
    "\n",
    "# dikey\n",
    "ver = np.vstack((img,img))\n",
    "cv2.imshow(\"Vertical: \",ver)\n",
    "\n",
    "cv2.waitKey(0)\n",
    "cv2.destroyAllWindows()"
   ]
  },
  {
   "cell_type": "code",
   "execution_count": null,
   "id": "6fdb074c-7542-4840-8bea-64262e33feff",
   "metadata": {},
   "outputs": [],
   "source": []
  }
 ],
 "metadata": {
  "kernelspec": {
   "display_name": "Python 3 (ipykernel)",
   "language": "python",
   "name": "python3"
  },
  "language_info": {
   "codemirror_mode": {
    "name": "ipython",
    "version": 3
   },
   "file_extension": ".py",
   "mimetype": "text/x-python",
   "name": "python",
   "nbconvert_exporter": "python",
   "pygments_lexer": "ipython3",
   "version": "3.9.12"
  }
 },
 "nbformat": 4,
 "nbformat_minor": 5
}
