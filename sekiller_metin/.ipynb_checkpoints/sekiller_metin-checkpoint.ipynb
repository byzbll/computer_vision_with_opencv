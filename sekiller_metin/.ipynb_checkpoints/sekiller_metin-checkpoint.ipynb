{
 "cells": [
  {
   "cell_type": "code",
   "execution_count": 1,
   "id": "721c6e47-e31c-48fd-bd6d-cd31021a053e",
   "metadata": {},
   "outputs": [],
   "source": [
    "import cv2\n",
    "import numpy as np"
   ]
  },
  {
   "cell_type": "code",
   "execution_count": 2,
   "id": "37823aff-70ea-48c0-9b85-f9dcafab880f",
   "metadata": {},
   "outputs": [
    {
     "name": "stdout",
     "output_type": "stream",
     "text": [
      "(512, 512, 3)\n"
     ]
    }
   ],
   "source": [
    "# Resim Oluştur\n",
    "img = np.zeros((512,512,3), np.uint8) # Siyah bir resim\n",
    "print(img.shape)\n",
    "cv2.imshow(\"Siyah\",img)\n",
    "\n",
    "# çizgi\n",
    "#(resim, başlangıç noktası, bitiş noktası, renk, kalınlık)\n",
    "cv2.line(img, (0,0), (512,512), (0,255,0), 3) # BGR = (0,255,0)\n",
    "cv2.imshow(\"Cizgi\",img)\n",
    "\n",
    "# Dikdörtgen\n",
    "#(resim, başlangıç noktası, bitiş noktası, renk, içini doldurmak)\n",
    "cv2.rectangle(img, (0,0),(256,256),(255,0,0), cv2.FILLED)\n",
    "cv2.imshow(\"Dikdortgen\",img)\n",
    "\n",
    "# çember\n",
    "# (resim, merkez, yarıçap, renk)\n",
    "cv2.circle(img, (300,300), 45, (0,0,255), cv2.FILLED)\n",
    "cv2.imshow(\"Cember\",img)\n",
    "\n",
    "# Metin\n",
    "# (resim, başlangıç noktası, font, kalınlık, renk)\n",
    "cv2.putText(img, \"Resim\", (350,350), cv2.FONT_HERSHEY_COMPLEX, 1, (255,255,255))\n",
    "cv2.imshow(\"Metin\",img)\n",
    "\n",
    "cv2.waitKey(0)\n",
    "cv2.destroyAllWindows()"
   ]
  },
  {
   "cell_type": "code",
   "execution_count": null,
   "id": "16c9172b-ad75-480b-93be-a41955ec0ab1",
   "metadata": {},
   "outputs": [],
   "source": []
  }
 ],
 "metadata": {
  "kernelspec": {
   "display_name": "Python 3 (ipykernel)",
   "language": "python",
   "name": "python3"
  },
  "language_info": {
   "codemirror_mode": {
    "name": "ipython",
    "version": 3
   },
   "file_extension": ".py",
   "mimetype": "text/x-python",
   "name": "python",
   "nbconvert_exporter": "python",
   "pygments_lexer": "ipython3",
   "version": "3.9.12"
  }
 },
 "nbformat": 4,
 "nbformat_minor": 5
}
