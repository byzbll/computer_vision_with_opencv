{
 "cells": [
  {
   "cell_type": "code",
   "execution_count": 1,
   "id": "358d1d4f-1d91-465d-951e-32fb8bf58bda",
   "metadata": {},
   "outputs": [],
   "source": [
    "import cv2\n",
    "import numpy as np"
   ]
  },
  {
   "cell_type": "code",
   "execution_count": 2,
   "id": "01341211-bb2e-40a4-82c1-f021da3e4d5c",
   "metadata": {},
   "outputs": [
    {
     "name": "stdout",
     "output_type": "stream",
     "text": [
      "[[ 9.87676881e-01  4.23589660e-01 -2.00921997e+02]\n",
      " [-3.91687206e-01  8.85896566e-01  7.86266062e+01]\n",
      " [-1.44400225e-05 -1.53164479e-05  1.00000000e+00]]\n"
     ]
    }
   ],
   "source": [
    "# Resim ice aktar\n",
    "img = cv2.imread(\"kart.png\")\n",
    "cv2.imshow(\"Original\",img)\n",
    "\n",
    "width = 400\n",
    "height = 500\n",
    "\n",
    "pts1 = np.float32([[203,1],[1,472],[540,150],[338,617]])\n",
    "pts2 = np.float32([[0,0],[0,height],[width,0],[width,height]])\n",
    "\n",
    "matrix = cv2.getPerspectiveTransform(pts1, pts2)\n",
    "print(matrix)\n",
    "\n",
    "# Döndürülmüş resim\n",
    "imgOutput = cv2.warpPerspective(img, matrix, (width,height))\n",
    "\n",
    "cv2.imshow(\"Donusturulmus\",imgOutput)\n",
    "\n",
    "cv2.waitKey(0)\n",
    "cv2.destroyAllWindows()"
   ]
  },
  {
   "cell_type": "code",
   "execution_count": null,
   "id": "414321f5-f2e3-4463-a661-02644adcec8d",
   "metadata": {},
   "outputs": [],
   "source": []
  }
 ],
 "metadata": {
  "kernelspec": {
   "display_name": "Python 3 (ipykernel)",
   "language": "python",
   "name": "python3"
  },
  "language_info": {
   "codemirror_mode": {
    "name": "ipython",
    "version": 3
   },
   "file_extension": ".py",
   "mimetype": "text/x-python",
   "name": "python",
   "nbconvert_exporter": "python",
   "pygments_lexer": "ipython3",
   "version": "3.9.12"
  }
 },
 "nbformat": 4,
 "nbformat_minor": 5
}
